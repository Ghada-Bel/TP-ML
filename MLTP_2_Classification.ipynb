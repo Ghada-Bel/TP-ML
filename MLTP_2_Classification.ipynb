{
  "nbformat": 4,
  "nbformat_minor": 0,
  "metadata": {
    "colab": {
      "provenance": [],
      "authorship_tag": "ABX9TyPHXLuvrQ1IgI/XM0OmUryP",
      "include_colab_link": true
    },
    "kernelspec": {
      "name": "python3",
      "display_name": "Python 3"
    },
    "language_info": {
      "name": "python"
    }
  },
  "cells": [
    {
      "cell_type": "markdown",
      "metadata": {
        "id": "view-in-github",
        "colab_type": "text"
      },
      "source": [
        "<a href=\"https://colab.research.google.com/github/Ghada-Bel/TP-ML/blob/main/MLTP_2_Classification.ipynb\" target=\"_parent\"><img src=\"https://colab.research.google.com/assets/colab-badge.svg\" alt=\"Open In Colab\"/></a>"
      ]
    },
    {
      "cell_type": "code",
      "source": [
        "from google.colab import files\n",
        "uploaded = files.upload()\n"
      ],
      "metadata": {
        "colab": {
          "base_uri": "https://localhost:8080/",
          "height": 73
        },
        "id": "0ep3VkJsX6qj",
        "outputId": "2461859d-ff80-49e3-b2f8-dd92aa764a60"
      },
      "execution_count": 1,
      "outputs": [
        {
          "output_type": "display_data",
          "data": {
            "text/plain": [
              "<IPython.core.display.HTML object>"
            ],
            "text/html": [
              "\n",
              "     <input type=\"file\" id=\"files-45ea9a81-9ba4-40ed-bbb4-c9e44d6b1034\" name=\"files[]\" multiple disabled\n",
              "        style=\"border:none\" />\n",
              "     <output id=\"result-45ea9a81-9ba4-40ed-bbb4-c9e44d6b1034\">\n",
              "      Upload widget is only available when the cell has been executed in the\n",
              "      current browser session. Please rerun this cell to enable.\n",
              "      </output>\n",
              "      <script>// Copyright 2017 Google LLC\n",
              "//\n",
              "// Licensed under the Apache License, Version 2.0 (the \"License\");\n",
              "// you may not use this file except in compliance with the License.\n",
              "// You may obtain a copy of the License at\n",
              "//\n",
              "//      http://www.apache.org/licenses/LICENSE-2.0\n",
              "//\n",
              "// Unless required by applicable law or agreed to in writing, software\n",
              "// distributed under the License is distributed on an \"AS IS\" BASIS,\n",
              "// WITHOUT WARRANTIES OR CONDITIONS OF ANY KIND, either express or implied.\n",
              "// See the License for the specific language governing permissions and\n",
              "// limitations under the License.\n",
              "\n",
              "/**\n",
              " * @fileoverview Helpers for google.colab Python module.\n",
              " */\n",
              "(function(scope) {\n",
              "function span(text, styleAttributes = {}) {\n",
              "  const element = document.createElement('span');\n",
              "  element.textContent = text;\n",
              "  for (const key of Object.keys(styleAttributes)) {\n",
              "    element.style[key] = styleAttributes[key];\n",
              "  }\n",
              "  return element;\n",
              "}\n",
              "\n",
              "// Max number of bytes which will be uploaded at a time.\n",
              "const MAX_PAYLOAD_SIZE = 100 * 1024;\n",
              "\n",
              "function _uploadFiles(inputId, outputId) {\n",
              "  const steps = uploadFilesStep(inputId, outputId);\n",
              "  const outputElement = document.getElementById(outputId);\n",
              "  // Cache steps on the outputElement to make it available for the next call\n",
              "  // to uploadFilesContinue from Python.\n",
              "  outputElement.steps = steps;\n",
              "\n",
              "  return _uploadFilesContinue(outputId);\n",
              "}\n",
              "\n",
              "// This is roughly an async generator (not supported in the browser yet),\n",
              "// where there are multiple asynchronous steps and the Python side is going\n",
              "// to poll for completion of each step.\n",
              "// This uses a Promise to block the python side on completion of each step,\n",
              "// then passes the result of the previous step as the input to the next step.\n",
              "function _uploadFilesContinue(outputId) {\n",
              "  const outputElement = document.getElementById(outputId);\n",
              "  const steps = outputElement.steps;\n",
              "\n",
              "  const next = steps.next(outputElement.lastPromiseValue);\n",
              "  return Promise.resolve(next.value.promise).then((value) => {\n",
              "    // Cache the last promise value to make it available to the next\n",
              "    // step of the generator.\n",
              "    outputElement.lastPromiseValue = value;\n",
              "    return next.value.response;\n",
              "  });\n",
              "}\n",
              "\n",
              "/**\n",
              " * Generator function which is called between each async step of the upload\n",
              " * process.\n",
              " * @param {string} inputId Element ID of the input file picker element.\n",
              " * @param {string} outputId Element ID of the output display.\n",
              " * @return {!Iterable<!Object>} Iterable of next steps.\n",
              " */\n",
              "function* uploadFilesStep(inputId, outputId) {\n",
              "  const inputElement = document.getElementById(inputId);\n",
              "  inputElement.disabled = false;\n",
              "\n",
              "  const outputElement = document.getElementById(outputId);\n",
              "  outputElement.innerHTML = '';\n",
              "\n",
              "  const pickedPromise = new Promise((resolve) => {\n",
              "    inputElement.addEventListener('change', (e) => {\n",
              "      resolve(e.target.files);\n",
              "    });\n",
              "  });\n",
              "\n",
              "  const cancel = document.createElement('button');\n",
              "  inputElement.parentElement.appendChild(cancel);\n",
              "  cancel.textContent = 'Cancel upload';\n",
              "  const cancelPromise = new Promise((resolve) => {\n",
              "    cancel.onclick = () => {\n",
              "      resolve(null);\n",
              "    };\n",
              "  });\n",
              "\n",
              "  // Wait for the user to pick the files.\n",
              "  const files = yield {\n",
              "    promise: Promise.race([pickedPromise, cancelPromise]),\n",
              "    response: {\n",
              "      action: 'starting',\n",
              "    }\n",
              "  };\n",
              "\n",
              "  cancel.remove();\n",
              "\n",
              "  // Disable the input element since further picks are not allowed.\n",
              "  inputElement.disabled = true;\n",
              "\n",
              "  if (!files) {\n",
              "    return {\n",
              "      response: {\n",
              "        action: 'complete',\n",
              "      }\n",
              "    };\n",
              "  }\n",
              "\n",
              "  for (const file of files) {\n",
              "    const li = document.createElement('li');\n",
              "    li.append(span(file.name, {fontWeight: 'bold'}));\n",
              "    li.append(span(\n",
              "        `(${file.type || 'n/a'}) - ${file.size} bytes, ` +\n",
              "        `last modified: ${\n",
              "            file.lastModifiedDate ? file.lastModifiedDate.toLocaleDateString() :\n",
              "                                    'n/a'} - `));\n",
              "    const percent = span('0% done');\n",
              "    li.appendChild(percent);\n",
              "\n",
              "    outputElement.appendChild(li);\n",
              "\n",
              "    const fileDataPromise = new Promise((resolve) => {\n",
              "      const reader = new FileReader();\n",
              "      reader.onload = (e) => {\n",
              "        resolve(e.target.result);\n",
              "      };\n",
              "      reader.readAsArrayBuffer(file);\n",
              "    });\n",
              "    // Wait for the data to be ready.\n",
              "    let fileData = yield {\n",
              "      promise: fileDataPromise,\n",
              "      response: {\n",
              "        action: 'continue',\n",
              "      }\n",
              "    };\n",
              "\n",
              "    // Use a chunked sending to avoid message size limits. See b/62115660.\n",
              "    let position = 0;\n",
              "    do {\n",
              "      const length = Math.min(fileData.byteLength - position, MAX_PAYLOAD_SIZE);\n",
              "      const chunk = new Uint8Array(fileData, position, length);\n",
              "      position += length;\n",
              "\n",
              "      const base64 = btoa(String.fromCharCode.apply(null, chunk));\n",
              "      yield {\n",
              "        response: {\n",
              "          action: 'append',\n",
              "          file: file.name,\n",
              "          data: base64,\n",
              "        },\n",
              "      };\n",
              "\n",
              "      let percentDone = fileData.byteLength === 0 ?\n",
              "          100 :\n",
              "          Math.round((position / fileData.byteLength) * 100);\n",
              "      percent.textContent = `${percentDone}% done`;\n",
              "\n",
              "    } while (position < fileData.byteLength);\n",
              "  }\n",
              "\n",
              "  // All done.\n",
              "  yield {\n",
              "    response: {\n",
              "      action: 'complete',\n",
              "    }\n",
              "  };\n",
              "}\n",
              "\n",
              "scope.google = scope.google || {};\n",
              "scope.google.colab = scope.google.colab || {};\n",
              "scope.google.colab._files = {\n",
              "  _uploadFiles,\n",
              "  _uploadFilesContinue,\n",
              "};\n",
              "})(self);\n",
              "</script> "
            ]
          },
          "metadata": {}
        },
        {
          "output_type": "stream",
          "name": "stdout",
          "text": [
            "Saving DataTP2-Classification.csv to DataTP2-Classification.csv\n"
          ]
        }
      ]
    },
    {
      "cell_type": "code",
      "execution_count": 6,
      "metadata": {
        "colab": {
          "base_uri": "https://localhost:8080/",
          "height": 1000
        },
        "id": "RZ1X4bBSXr7_",
        "outputId": "22bd9067-80c2-4c94-8eab-a33bf99d6022"
      },
      "outputs": [
        {
          "output_type": "stream",
          "name": "stdout",
          "text": [
            "Dimensions : (10000, 14)\n",
            "   RowNumber  CustomerId   Surname  CreditScore Geography  Gender  Age  \\\n",
            "0          1    15634602  Hargrave          619    France  Female   42   \n",
            "1          2    15647311      Hill          608     Spain  Female   41   \n",
            "2          3    15619304      Onio          502    France  Female   42   \n",
            "3          4    15701354      Boni          699    France  Female   39   \n",
            "4          5    15737888  Mitchell          850     Spain  Female   43   \n",
            "\n",
            "   Tenure    Balance  NumOfProducts  HasCrCard  IsActiveMember  \\\n",
            "0       2       0.00              1          1               1   \n",
            "1       1   83807.86              1          0               1   \n",
            "2       8  159660.80              3          1               0   \n",
            "3       1       0.00              2          0               0   \n",
            "4       2  125510.82              1          1               1   \n",
            "\n",
            "   EstimatedSalary  Exited  \n",
            "0        101348.88       1  \n",
            "1        112542.58       0  \n",
            "2        113931.57       1  \n",
            "3         93826.63       0  \n",
            "4         79084.10       0  \n",
            "Exited\n",
            "0    7963\n",
            "1    2037\n",
            "Name: count, dtype: int64\n"
          ]
        },
        {
          "output_type": "display_data",
          "data": {
            "text/plain": [
              "<Figure size 640x480 with 1 Axes>"
            ],
            "image/png": "[encoded data removed]"
          },
          "metadata": {}
        },
        {
          "output_type": "stream",
          "name": "stdout",
          "text": [
            "RowNumber            int64\n",
            "CustomerId           int64\n",
            "Surname             object\n",
            "CreditScore          int64\n",
            "Geography           object\n",
            "Gender              object\n",
            "Age                  int64\n",
            "Tenure               int64\n",
            "Balance            float64\n",
            "NumOfProducts        int64\n",
            "HasCrCard            int64\n",
            "IsActiveMember       int64\n",
            "EstimatedSalary    float64\n",
            "Exited               int64\n",
            "dtype: object\n"
          ]
        }
      ],
      "source": [
        "import pandas as pd\n",
        "import matplotlib.pyplot as plt\n",
        "import seaborn as sns\n",
        "\n",
        "# Charger le jeu de données\n",
        "df = pd.read_csv(\"DataTP2-Classification.csv\")\n",
        "\n",
        "# Afficher dimensions & premiers enregistrements\n",
        "print(\"Dimensions :\", df.shape)\n",
        "print(df.head())\n",
        "\n",
        "# Analyser la distribution de la variable cible\n",
        "print(df['Exited'].value_counts())\n",
        "sns.countplot(x='Exited', data=df)\n",
        "plt.title(\"Répartition des clients churnés vs non churnés\")\n",
        "plt.show()\n",
        "\n",
        "# Identifier types de variables\n",
        "print(df.dtypes)\n",
        "\n",
        "# Supprimer colonnes inutiles\n",
        "df.drop(columns=['RowNumber', 'CustomerId', 'Surname'], inplace=True)\n"
      ]
    },
    {
      "cell_type": "code",
      "source": [
        "# Encodage des variables catégorielles\n",
        "df = pd.get_dummies(df, drop_first=True)\n",
        "\n",
        "# Gestion des valeurs manquantes\n",
        "from sklearn.impute import SimpleImputer\n",
        "import numpy as np\n",
        "\n",
        "imputer = SimpleImputer(strategy='mean')\n",
        "df[df.columns] = imputer.fit_transform(df)\n",
        "\n",
        "# Sélection des colonnes numériques\n",
        "num_cols = df.select_dtypes(include=[np.number]).columns\n",
        "print(\"Colonnes numériques :\", num_cols)\n",
        "\n",
        "# Statistiques descriptives\n",
        "print(df[num_cols].describe())\n",
        "\n",
        "# Boxplots pour outliers\n",
        "plt.figure(figsize=(12, 6))\n",
        "df[num_cols].boxplot(rot=90)\n",
        "plt.title(\"Boxplots des variables numériques\")\n",
        "plt.show()\n",
        "\n",
        "# Calcul des bornes avec IQR\n",
        "Q1 = df[num_cols].quantile(0.25)\n",
        "Q3 = df[num_cols].quantile(0.75)\n",
        "IQR = Q3 - Q1\n",
        "\n",
        "borne_inf = Q1 - 1.5 * IQR\n",
        "borne_sup = Q3 + 1.5 * IQR\n",
        "\n",
        "# Détection des outliers\n",
        "outliers = ((df[num_cols] < borne_inf) | (df[num_cols] > borne_sup))\n",
        "print(\"Nombre d’outliers par variable :\")\n",
        "print(outliers.sum())\n",
        "\n",
        "# Normalisation\n",
        "from sklearn.preprocessing import StandardScaler\n",
        "scaler = StandardScaler()\n",
        "df[num_cols] = scaler.fit_transform(df[num_cols])\n"
      ],
      "metadata": {
        "colab": {
          "base_uri": "https://localhost:8080/",
          "height": 1000
        },
        "id": "Va4Waw8aYR97",
        "outputId": "5881b207-64ff-465b-f2fc-a0b11a81aaff"
      },
      "execution_count": 10,
      "outputs": [
        {
          "output_type": "stream",
          "name": "stdout",
          "text": [
            "Colonnes numériques : Index(['CreditScore', 'Age', 'Tenure', 'Balance', 'NumOfProducts', 'HasCrCard',\n",
            "       'IsActiveMember', 'EstimatedSalary', 'Exited', 'Geography_Germany',\n",
            "       'Geography_Spain', 'Gender_Male'],\n",
            "      dtype='object')\n",
            "        CreditScore           Age        Tenure        Balance  NumOfProducts  \\\n",
            "count  10000.000000  10000.000000  10000.000000   10000.000000   10000.000000   \n",
            "mean     650.528800     38.921800      5.012800   76485.889288       1.530200   \n",
            "std       96.653299     10.487806      2.892174   62397.405202       0.581654   \n",
            "min      350.000000     18.000000      0.000000       0.000000       1.000000   \n",
            "25%      584.000000     32.000000      3.000000       0.000000       1.000000   \n",
            "50%      652.000000     37.000000      5.000000   97198.540000       1.000000   \n",
            "75%      718.000000     44.000000      7.000000  127644.240000       2.000000   \n",
            "max      850.000000     92.000000     10.000000  250898.090000       4.000000   \n",
            "\n",
            "         HasCrCard  IsActiveMember  EstimatedSalary        Exited  \\\n",
            "count  10000.00000    10000.000000     10000.000000  10000.000000   \n",
            "mean       0.70550        0.515100    100090.239881      0.203700   \n",
            "std        0.45584        0.499797     57510.492818      0.402769   \n",
            "min        0.00000        0.000000        11.580000      0.000000   \n",
            "25%        0.00000        0.000000     51002.110000      0.000000   \n",
            "50%        1.00000        1.000000    100193.915000      0.000000   \n",
            "75%        1.00000        1.000000    149388.247500      0.000000   \n",
            "max        1.00000        1.000000    199992.480000      1.000000   \n",
            "\n",
            "       Geography_Germany  Geography_Spain   Gender_Male  \n",
            "count       10000.000000     10000.000000  10000.000000  \n",
            "mean            0.250900         0.247700      0.545700  \n",
            "std             0.433553         0.431698      0.497932  \n",
            "min             0.000000         0.000000      0.000000  \n",
            "25%             0.000000         0.000000      0.000000  \n",
            "50%             0.000000         0.000000      1.000000  \n",
            "75%             1.000000         0.000000      1.000000  \n",
            "max             1.000000         1.000000      1.000000  \n"
          ]
        },
        {
          "output_type": "display_data",
          "data": {
            "text/plain": [
              "<Figure size 1200x600 with 1 Axes>"
            ],
            "image/png": "[encoded data removed]"
          },
          "metadata": {}
        },
        {
          "output_type": "stream",
          "name": "stdout",
          "text": [
            "Nombre d’outliers par variable :\n",
            "CreditScore            15\n",
            "Age                   359\n",
            "Tenure                  0\n",
            "Balance                 0\n",
            "NumOfProducts          60\n",
            "HasCrCard               0\n",
            "IsActiveMember          0\n",
            "EstimatedSalary         0\n",
            "Exited               2037\n",
            "Geography_Germany       0\n",
            "Geography_Spain      2477\n",
            "Gender_Male             0\n",
            "dtype: int64\n"
          ]
        }
      ]
    },
    {
      "cell_type": "code",
      "source": [
        "from sklearn.model_selection import train_test_split\n",
        "\n",
        "X = df.drop('Exited', axis=1)\n",
        "y = df['Exited'].astype(int)\n",
        "\n",
        "X_train, X_test, y_train, y_test = train_test_split(X, y, test_size=0.2, random_state=42)\n"
      ],
      "metadata": {
        "id": "66AaY4CWYUbr"
      },
      "execution_count": 11,
      "outputs": []
    },
    {
      "cell_type": "code",
      "source": [
        "from sklearn.linear_model import LogisticRegression\n",
        "from sklearn.svm import SVC\n",
        "from sklearn.neighbors import KNeighborsClassifier\n",
        "\n",
        "models = {\n",
        "    \"Logistic Regression\": LogisticRegression(),\n",
        "    \"SVM\": SVC(),\n",
        "    \"KNN\": KNeighborsClassifier()\n",
        "}\n",
        "\n",
        "# Entraînement des modèles\n",
        "for name, model in models.items():\n",
        "    model.fit(X_train, y_train)\n",
        "    print(f\"{name} entraîné.\")\n"
      ],
      "metadata": {
        "colab": {
          "base_uri": "https://localhost:8080/"
        },
        "id": "TI603V8LYXkM",
        "outputId": "93707109-374b-438c-dbe0-5b3d52df83a4"
      },
      "execution_count": 12,
      "outputs": [
        {
          "output_type": "stream",
          "name": "stdout",
          "text": [
            "Logistic Regression entraîné.\n",
            "SVM entraîné.\n",
            "KNN entraîné.\n"
          ]
        }
      ]
    },
    {
      "cell_type": "code",
      "source": [
        "from sklearn.metrics import accuracy_score, precision_score, recall_score, f1_score, confusion_matrix\n",
        "\n",
        "for name, model in models.items():\n",
        "    y_pred = model.predict(X_test)\n",
        "    print(f\"\\n--- {name} ---\")\n",
        "    print(\"Accuracy :\", accuracy_score(y_test, y_pred))\n",
        "    print(\"Precision:\", precision_score(y_test, y_pred))\n",
        "    print(\"Recall   :\", recall_score(y_test, y_pred))\n",
        "    print(\"F1 Score :\", f1_score(y_test, y_pred))\n",
        "    print(\"Matrice de confusion:\\n\", confusion_matrix(y_test, y_pred))\n"
      ],
      "metadata": {
        "colab": {
          "base_uri": "https://localhost:8080/"
        },
        "id": "QSOUiiTcZn9_",
        "outputId": "0278a96a-6a5f-4509-909e-cdc3e8ce5708"
      },
      "execution_count": 13,
      "outputs": [
        {
          "output_type": "stream",
          "name": "stdout",
          "text": [
            "\n",
            "--- Logistic Regression ---\n",
            "Accuracy : 0.811\n",
            "Precision: 0.5524475524475524\n",
            "Recall   : 0.2010178117048346\n",
            "F1 Score : 0.2947761194029851\n",
            "Matrice de confusion:\n",
            " [[1543   64]\n",
            " [ 314   79]]\n",
            "\n",
            "--- SVM ---\n",
            "Accuracy : 0.856\n",
            "Precision: 0.7692307692307693\n",
            "Recall   : 0.3816793893129771\n",
            "F1 Score : 0.5102040816326531\n",
            "Matrice de confusion:\n",
            " [[1562   45]\n",
            " [ 243  150]]\n",
            "\n",
            "--- KNN ---\n",
            "Accuracy : 0.8295\n",
            "Precision: 0.6083333333333333\n",
            "Recall   : 0.37150127226463103\n",
            "F1 Score : 0.46129541864139023\n",
            "Matrice de confusion:\n",
            " [[1513   94]\n",
            " [ 247  146]]\n"
          ]
        }
      ]
    },
    {
      "cell_type": "code",
      "source": [
        "from sklearn.model_selection import GridSearchCV, cross_val_score\n",
        "\n",
        "# Validation croisée sur Logistic Regression\n",
        "scores = cross_val_score(LogisticRegression(), X, y, cv=5)\n",
        "print(\"Scores validation croisée (LogReg) :\", scores)\n",
        "\n",
        "# Grid Search pour SVM\n",
        "param_grid = {\n",
        "    'C': [0.1, 1, 10],\n",
        "    'kernel': ['linear', 'rbf']\n",
        "}\n",
        "grid = GridSearchCV(SVC(), param_grid, cv=5)\n",
        "grid.fit(X_train, y_train)\n",
        "\n",
        "print(\"Meilleurs hyperparamètres SVM :\", grid.best_params_)\n",
        "print(\"Meilleur score GridSearch :\", grid.best_score_)\n"
      ],
      "metadata": {
        "colab": {
          "base_uri": "https://localhost:8080/"
        },
        "id": "aoMDtZEtZrmi",
        "outputId": "f27b909f-b980-437a-fb57-94a78a0f512b"
      },
      "execution_count": 14,
      "outputs": [
        {
          "output_type": "stream",
          "name": "stdout",
          "text": [
            "Scores validation croisée (LogReg) : [0.811  0.8085 0.8085 0.818  0.8025]\n",
            "Meilleurs hyperparamètres SVM : {'C': 1, 'kernel': 'rbf'}\n",
            "Meilleur score GridSearch : 0.8545\n"
          ]
        }
      ]
    }
  ]
}